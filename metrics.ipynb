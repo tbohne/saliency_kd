{
 "cells": [
  {
   "cell_type": "code",
   "execution_count": null,
   "id": "583242ad-6e27-4ba9-87b9-ad403abb8579",
   "metadata": {},
   "outputs": [],
   "source": [
    "import joblib\n",
    "import numpy as np\n",
    "from scipy.stats import pearsonr\n",
    "from tslearn.metrics import dtw_path_from_metric\n",
    "from scipy.stats import entropy\n",
    "from itertools import combinations"
   ]
  },
  {
   "cell_type": "code",
   "execution_count": null,
   "id": "d0711d5e-fd5c-4b07-9d3f-d7863decf590",
   "metadata": {},
   "outputs": [],
   "source": [
    "SAMPLE_LEN = 256\n",
    "\n",
    "def intra_cluster_dtw_distances(clusters, centroids):\n",
    "    intra_dists = []\n",
    "    for i, cluster in enumerate(clusters):\n",
    "        dists = [dtw_path_from_metric(ts, centroids[i]) for ts in cluster]\n",
    "        dists = [d[1] for d in dists]\n",
    "        intra_dists.append(round(np.median(dists), 2))\n",
    "    return intra_dists\n",
    "\n",
    "def inter_cluster_dtw_distances(centroids):\n",
    "    distance_grid = [[0 for i in range(len(centroids))] for _ in range(len(centroids))]\n",
    "    for c1, c2 in combinations(range(len(centroids)), 2):\n",
    "        _, dist = dtw_path_from_metric(centroids[c1], centroids[c2])\n",
    "        dist = round(dist, 2)\n",
    "        distance_grid[c1][c2] = dist\n",
    "        distance_grid[c2][c1] = dist\n",
    "    return distance_grid\n",
    "\n",
    "def dtw_silhouette_score(clusters):\n",
    "    all_series = [ts for cluster in clusters for ts in cluster]\n",
    "    labels = []\n",
    "    for i, cluster in enumerate(clusters):\n",
    "        labels.extend([i] * len(cluster))\n",
    "\n",
    "    scores = []\n",
    "    scores_per_cluster = [[] for _ in range(len(set(labels)))]\n",
    "    for idx, ts in enumerate(all_series):\n",
    "        label = labels[idx]\n",
    "        a = np.mean([dtw_path_from_metric(ts, other)[1] for other in clusters[label] if not np.array_equal(ts, other)])\n",
    "\n",
    "        b = np.inf\n",
    "        for j, cluster in enumerate(clusters):\n",
    "            if j == label:\n",
    "                continue\n",
    "            dist = np.mean([dtw_path_from_metric(ts, other)[1] for other in cluster])\n",
    "            b = min(b, dist)\n",
    "\n",
    "        s = (b - a) / max(a, b) if max(a, b) != 0 else 0\n",
    "        scores.append(s)\n",
    "        scores_per_cluster[label].append(s)\n",
    "        \n",
    "    return round(np.mean(scores), 2), [round(np.mean(score_per_cluster_list),2) for score_per_cluster_list in scores_per_cluster]\n",
    "\n",
    "def cluster_size_entropy(clusters):\n",
    "    sizes = np.array([len(c) for c in clusters])\n",
    "    probs = sizes / np.sum(sizes)\n",
    "    return entropy(probs)\n",
    "\n",
    "def cluster_variance_across_samples(clusters):\n",
    "    variances = []\n",
    "    for i, cluster in enumerate(clusters):\n",
    "        cluster = np.array(cluster)\n",
    "        assert cluster.shape == (len(clusters[i]), SAMPLE_LEN, 2) or cluster.shape == (len(clusters[i]), SAMPLE_LEN)\n",
    "        # for each time step and variable: how much do samples vary? i.e., cluster spread\n",
    "        variances.append(round(np.mean(np.var(cluster, axis=0)), 2))\n",
    "    return variances\n",
    "\n",
    "def intra_class_variance(clusters, centroids):\n",
    "    variances = []\n",
    "    for i, cluster in enumerate(clusters):\n",
    "        cluster = np.array(cluster)\n",
    "        assert cluster.shape == (len(clusters[i]), SAMPLE_LEN)\n",
    "        assert centroids[i].shape == (SAMPLE_LEN,)\n",
    "        # squared distances of each signal to centroid\n",
    "        squared_diffs = (cluster - centroids[i]) ** 2\n",
    "        squared_dists = np.mean(squared_diffs, axis=1)\n",
    "        # avg over all signals\n",
    "        variances.append(round(np.mean(squared_dists), 2))\n",
    "    return variances\n",
    "\n",
    "def append_metrics(centroids, signals, pred_labels, sub_results_dict):\n",
    "    clusters = [[] for _ in range(len(centroids))]\n",
    "    for i, label in enumerate(pred_labels):\n",
    "        clusters[label].append(signals[i])\n",
    "    \n",
    "    intra = intra_cluster_dtw_distances(clusters, centroids)\n",
    "    inter = inter_cluster_dtw_distances(centroids)\n",
    "    sil_score, sil_score_per_cluster = dtw_silhouette_score(clusters)\n",
    "    entropy_score = cluster_size_entropy(clusters)\n",
    "    \n",
    "    cvas = cluster_variance_across_samples(clusters)\n",
    "    icv = intra_class_variance(clusters, centroids)\n",
    "    cluster_sizes = [len(i) for i in clusters]\n",
    "    \n",
    "    print(\"intra:\", intra)\n",
    "    sub_results_dict[\"intra\"] = intra\n",
    "    print(\"\\ninter:\", inter)\n",
    "    sub_results_dict[\"inter\"] = inter\n",
    "    print(\"\\nsil_score:\", sil_score)\n",
    "    sub_results_dict[\"sil_score\"] = sil_score\n",
    "    print(\"\\nsil_score_per_cluster:\", sil_score_per_cluster)\n",
    "    sub_results_dict[\"sil_score_per_cluster\"] = sil_score_per_cluster\n",
    "    print(\"\\nentropy:\", entropy_score, \"max possible:\", np.log(len(centroids)))\n",
    "    sub_results_dict[\"entropy\"] = entropy\n",
    "    print(\"\\nBalance:\", entropy_score / np.log(len(centroids)))\n",
    "    sub_results_dict[\"normalized_entropy\"] = entropy_score / np.log(len(centroids))\n",
    "    print(\"\\ncluster_variance_across_samples:\", cvas)\n",
    "    sub_results_dict[\"cluster_variance_across_samples\"] = cvas\n",
    "    print(\"\\nintra_class_variance:\", icv)\n",
    "    sub_results_dict[\"intra_class_variance\"] = icv\n",
    "    print(\"\\nsizes:\", cluster_sizes)\n",
    "    sub_results_dict[\"sizes\"] = cluster_sizes"
   ]
  },
  {
   "cell_type": "code",
   "execution_count": null,
   "id": "32bd5f22-12db-4fd5-a0ca-eddaf280dd8b",
   "metadata": {},
   "outputs": [],
   "source": [
    "results = {}\n",
    "\n",
    "dba_km, pred_labels_saliency, gt_labels_per_cluster_saliency, centroids_saliency, saliency_maps_to_cluster = joblib.load(\n",
    "    'trained_models\\InsectWingbeatSound_final\\dba_km_saliency_InsectWingbeatSound_CLASS0.pkl'\n",
    ")\n",
    "dba_km, pred_labels_input, gt_labels_per_cluster_input, centroids_input, input_signals_to_cluster = joblib.load(\n",
    "    'trained_models\\InsectWingbeatSound_final\\dba_km_input_InsectWingbeatSound_CLASS0.pkl'\n",
    ")\n",
    "dba_km, pred_labels_multivariate, gt_labels_per_cluster_multivariate, centroids_multivariate, multivar_signals_to_cluster = joblib.load(\n",
    "    'trained_models\\InsectWingbeatSound_final\\dba_km_multivariate_InsectWingbeatSound_CLASS0.pkl'\n",
    ")\n",
    "\n",
    "results[\"Insect0Input\"] = {}\n",
    "results[\"Insect0Multi\"] = {}\n",
    "\n",
    "print(\"For Input sample clustering only:\")\n",
    "append_metrics(centroids_input.squeeze(), input_signals_to_cluster, pred_labels_input, results[\"Insect0Input\"])\n",
    "print(\"For Input samples of multivariate clustering:\")\n",
    "centroids_univariate = centroids_multivariate[:,:,0]\n",
    "signals_univariate = multivar_signals_to_cluster[:,:,0]\n",
    "append_metrics(centroids_univariate, signals_univariate, pred_labels_multivariate, results[\"Insect0Multi\"])"
   ]
  },
  {
   "cell_type": "code",
   "execution_count": null,
   "id": "6b176aa2-81d5-4462-b70c-56010bc4d589",
   "metadata": {},
   "outputs": [],
   "source": [
    "dba_km, pred_labels_saliency, gt_labels_per_cluster_saliency, centroids_saliency, saliency_maps_to_cluster = joblib.load(\n",
    "    'trained_models\\InsectWingbeatSound_final\\dba_km_saliency_InsectWingbeatSound_CLASS1.pkl'\n",
    ")\n",
    "dba_km, pred_labels_input, gt_labels_per_cluster_input, centroids_input, input_signals_to_cluster = joblib.load(\n",
    "    'trained_models\\InsectWingbeatSound_final\\dba_km_input_InsectWingbeatSound_CLASS1.pkl'\n",
    ")\n",
    "dba_km, pred_labels_multivariate, gt_labels_per_cluster_multivariate, centroids_multivariate, multivar_signals_to_cluster = joblib.load(\n",
    "    'trained_models\\InsectWingbeatSound_final\\dba_km_multivariate_InsectWingbeatSound_CLASS1.pkl'\n",
    ")\n",
    "\n",
    "results[\"Insect1Input\"] = {}\n",
    "results[\"Insect1Multi\"] = {}\n",
    "\n",
    "print(\"For Input sample clustering only:\")\n",
    "append_metrics(centroids_input.squeeze(), input_signals_to_cluster, pred_labels_input, results[\"Insect1Input\"])\n",
    "print(\"For Input samples of multivariate clustering:\")\n",
    "centroids_univariate = centroids_multivariate[:,:,0]\n",
    "signals_univariate = multivar_signals_to_cluster[:,:,0]\n",
    "append_metrics(centroids_univariate, signals_univariate, pred_labels_multivariate, results[\"Insect1Multi\"])"
   ]
  },
  {
   "cell_type": "code",
   "execution_count": null,
   "id": "0fd5c763-ae25-4df3-96db-e1d5fe6be263",
   "metadata": {},
   "outputs": [],
   "source": [
    "dba_km, pred_labels_saliency, gt_labels_per_cluster_saliency, centroids_saliency, saliency_maps_to_cluster = joblib.load(\n",
    "    'trained_models\\Mallat_final\\dba_km_saliency_Mallat_CLASS0.pkl'\n",
    ")\n",
    "dba_km, pred_labels_input, gt_labels_per_cluster_input, centroids_input, input_signals_to_cluster = joblib.load(\n",
    "    'trained_models\\Mallat_final\\dba_km_input_Mallat_CLASS0.pkl'\n",
    ")\n",
    "dba_km, pred_labels_multivariate, gt_labels_per_cluster_multivariate, centroids_multivariate, multivar_signals_to_cluster = joblib.load(\n",
    "    'trained_models\\Mallat_final\\dba_km_multivariate_Mallat_CLASS0.pkl'\n",
    ")\n",
    "\n",
    "results[\"Mallat0Input\"] = {}\n",
    "results[\"Mallat0Multi\"] = {}\n",
    "\n",
    "print(\"For Input sample clustering only:\")\n",
    "append_metrics(centroids_input.squeeze(), input_signals_to_cluster, pred_labels_input, results[\"Mallat0Input\"])\n",
    "print(\"For Input samples of multivariate clustering:\")\n",
    "centroids_univariate = centroids_multivariate[:,:,0]\n",
    "signals_univariate = multivar_signals_to_cluster[:,:,0]\n",
    "append_metrics(centroids_univariate, signals_univariate, pred_labels_multivariate, results[\"Mallat0Multi\"])"
   ]
  },
  {
   "cell_type": "code",
   "execution_count": null,
   "id": "31709d38-891b-4675-b58b-a23138f3316a",
   "metadata": {},
   "outputs": [],
   "source": [
    "dba_km, pred_labels_saliency, gt_labels_per_cluster_saliency, centroids_saliency, saliency_maps_to_cluster = joblib.load(\n",
    "    'trained_models\\Mallat_final\\dba_km_saliency_Mallat_CLASS1.pkl'\n",
    ")\n",
    "dba_km, pred_labels_input, gt_labels_per_cluster_input, centroids_input, input_signals_to_cluster = joblib.load(\n",
    "    'trained_models\\Mallat_final\\dba_km_input_Mallat_CLASS1.pkl'\n",
    ")\n",
    "dba_km, pred_labels_multivariate, gt_labels_per_cluster_multivariate, centroids_multivariate, multivar_signals_to_cluster = joblib.load(\n",
    "    'trained_models\\Mallat_final\\dba_km_multivariate_Mallat_CLASS1.pkl'\n",
    ")\n",
    "\n",
    "results[\"Mallat1Input\"] = {}\n",
    "results[\"Mallat1Multi\"] = {}\n",
    "\n",
    "print(\"For Input sample clustering only:\")\n",
    "append_metrics(centroids_input.squeeze(), input_signals_to_cluster, pred_labels_input, results[\"Mallat1Input\"])\n",
    "print(\"For Input samples of multivariate clustering:\")\n",
    "centroids_univariate = centroids_multivariate[:,:,0]\n",
    "signals_univariate = multivar_signals_to_cluster[:,:,0]\n",
    "append_metrics(centroids_univariate, signals_univariate, pred_labels_multivariate, results[\"Mallat1Multi\"])"
   ]
  },
  {
   "cell_type": "code",
   "execution_count": null,
   "id": "f7f63e2a-49b5-4005-bfd0-a5399be85ebd",
   "metadata": {},
   "outputs": [],
   "source": [
    "dba_km, pred_labels_saliency, gt_labels_per_cluster_saliency, centroids_saliency, saliency_maps_to_cluster = joblib.load(\n",
    "    'trained_models\\\\UWaveGestureLibrary_final\\dba_km_saliency_UWaveGestureLibraryAll_CLASS0.pkl'\n",
    ")\n",
    "dba_km, pred_labels_input, gt_labels_per_cluster_input, centroids_input, input_signals_to_cluster = joblib.load(\n",
    "    'trained_models\\\\UWaveGestureLibrary_final\\dba_km_input_UWaveGestureLibraryAll_CLASS0.pkl'\n",
    ")\n",
    "dba_km, pred_labels_multivariate, gt_labels_per_cluster_multivariate, centroids_multivariate, multivar_signals_to_cluster = joblib.load(\n",
    "    'trained_models\\\\UWaveGestureLibrary_final\\dba_km_multivariate_UWaveGestureLibraryAll_CLASS0.pkl'\n",
    ")\n",
    "\n",
    "results[\"UWave0Input\"] = {}\n",
    "results[\"UWave0Multi\"] = {}\n",
    "\n",
    "print(\"For Input sample clustering only:\")\n",
    "append_metrics(centroids_input.squeeze(), input_signals_to_cluster, pred_labels_input, results[\"UWave0Input\"])\n",
    "print(\"For Input samples of multivariate clustering:\")\n",
    "centroids_univariate = centroids_multivariate[:,:,0]\n",
    "signals_univariate = multivar_signals_to_cluster[:,:,0]\n",
    "append_metrics(centroids_univariate, signals_univariate, pred_labels_multivariate, results[\"UWave0Multi\"])"
   ]
  },
  {
   "cell_type": "code",
   "execution_count": null,
   "id": "ed0881e4-9f3e-4c3c-838c-096f5a364189",
   "metadata": {},
   "outputs": [],
   "source": [
    "dba_km, pred_labels_saliency, gt_labels_per_cluster_saliency, centroids_saliency, saliency_maps_to_cluster = joblib.load(\n",
    "    'trained_models\\\\UWaveGestureLibrary_final\\dba_km_saliency_UWaveGestureLibraryAll_CLASS1.pkl'\n",
    ")\n",
    "dba_km, pred_labels_input, gt_labels_per_cluster_input, centroids_input, input_signals_to_cluster = joblib.load(\n",
    "    'trained_models\\\\UWaveGestureLibrary_final\\dba_km_input_UWaveGestureLibraryAll_CLASS1.pkl'\n",
    ")\n",
    "dba_km, pred_labels_multivariate, gt_labels_per_cluster_multivariate, centroids_multivariate, multivar_signals_to_cluster = joblib.load(\n",
    "    'trained_models\\\\UWaveGestureLibrary_final\\dba_km_multivariate_UWaveGestureLibraryAll_CLASS1.pkl'\n",
    ")\n",
    "\n",
    "results[\"UWave1Input\"] = {}\n",
    "results[\"UWave1Multi\"] = {}\n",
    "\n",
    "print(\"For Input sample clustering only:\")\n",
    "append_metrics(centroids_input.squeeze(), input_signals_to_cluster, pred_labels_input, results[\"UWave1Input\"])\n",
    "print(\"For Input samples of multivariate clustering:\")\n",
    "centroids_univariate = centroids_multivariate[:,:,0]\n",
    "signals_univariate = multivar_signals_to_cluster[:,:,0]\n",
    "append_metrics(centroids_univariate, signals_univariate, pred_labels_multivariate, results[\"UWave1Multi\"])"
   ]
  },
  {
   "cell_type": "markdown",
   "id": "902c10b4-e169-43cd-a1a6-1aa1215e4e35",
   "metadata": {},
   "source": [
    "## Correlation between clustering-wide metrics and ARI, NMI and purity"
   ]
  },
  {
   "cell_type": "code",
   "execution_count": null,
   "id": "bdf1ea06-6982-489a-9108-06ba194b9dce",
   "metadata": {},
   "outputs": [],
   "source": [
    "dataset_order = [\n",
    "    \"UWave0Multi\", \"UWave1Multi\", \"Insect0Multi\", \"Insect1Multi\", \"Mallat0Multi\", \"Mallat1Multi\", \n",
    "    \"UWave0Input\", \"UWave1Input\", \"Insect0Input\", \"Insect1Input\", \"Mallat0Input\", \"Mallat1Input\"\n",
    "]"
   ]
  },
  {
   "cell_type": "code",
   "execution_count": null,
   "id": "54450523-08d6-4177-ab3e-a05a5eec2bf5",
   "metadata": {},
   "outputs": [],
   "source": [
    "clustering_performances = np.array(\n",
    "    [[0.615, 0.580, 0.823], [0.773, 0.737, 0.889], [0.233, 0.368, 0.398], \n",
    "     [0.169, 0.248, 0.326], [0.649, 0.804, 0.713], [0.918, 0.931, 0.940], \n",
    "     [0.426, 0.476, 0.712 ], [0.511, 0.520, 0.700], [0.018, 0.064, 0.233], \n",
    "     [0.007, 0.019, 0.226], [0.651, 0.807, 0.713], [0.634, 0.803, 0.721]]\n",
    ")"
   ]
  },
  {
   "cell_type": "code",
   "execution_count": null,
   "id": "e4771116-e33c-4bbb-9095-9a776e906b7d",
   "metadata": {},
   "outputs": [],
   "source": [
    "aris = clustering_performances[:,0]\n",
    "nmis = clustering_performances[:,1]\n",
    "puritys = clustering_performances[:,2]"
   ]
  },
  {
   "cell_type": "markdown",
   "id": "e6929968-38d8-4fab-bcd3-f7e30b8953f3",
   "metadata": {},
   "source": [
    "### Silhouette Score"
   ]
  },
  {
   "cell_type": "code",
   "execution_count": null,
   "id": "7ae8dee0-ae41-48c3-843a-6ccd5a901ee5",
   "metadata": {},
   "outputs": [],
   "source": [
    "sil_scores = [results[dataset][\"sil_score\"] for dataset in dataset_order]"
   ]
  },
  {
   "cell_type": "code",
   "execution_count": null,
   "id": "f3690f8a-cfbd-4c95-9e6c-55f43d477c76",
   "metadata": {},
   "outputs": [],
   "source": [
    "pearsonr(np.array(sil_scores), np.array(aris))"
   ]
  },
  {
   "cell_type": "code",
   "execution_count": null,
   "id": "f4ab18cc-9aab-44fd-8a04-54e0480c2e31",
   "metadata": {},
   "outputs": [],
   "source": [
    "pearsonr(np.array(sil_scores), np.array(nmis))"
   ]
  },
  {
   "cell_type": "code",
   "execution_count": null,
   "id": "1f5ac671-1e5c-4da2-a056-a568b4441f73",
   "metadata": {},
   "outputs": [],
   "source": [
    "pearsonr(np.array(sil_scores), np.array(puritys))"
   ]
  },
  {
   "cell_type": "markdown",
   "id": "08afc521-4834-46f1-bfa1-ca67ca3769bb",
   "metadata": {},
   "source": [
    "### Dataset balance / normalized entropy"
   ]
  },
  {
   "cell_type": "code",
   "execution_count": null,
   "id": "83b3aadd-c799-4095-bc91-842795c4ba5e",
   "metadata": {},
   "outputs": [],
   "source": [
    "normalized_entropys = [results[dataset][\"normalized_entropy\"] for dataset in dataset_order]"
   ]
  },
  {
   "cell_type": "code",
   "execution_count": null,
   "id": "b8b43acc-8685-466e-818d-41e13bd54992",
   "metadata": {},
   "outputs": [],
   "source": [
    "pearsonr(np.array(normalized_entropys), np.array(aris))"
   ]
  },
  {
   "cell_type": "code",
   "execution_count": null,
   "id": "029235a4-369e-4e84-8b39-21cf06d19d9b",
   "metadata": {},
   "outputs": [],
   "source": [
    "pearsonr(np.array(normalized_entropys), np.array(nmis))"
   ]
  },
  {
   "cell_type": "code",
   "execution_count": null,
   "id": "c7bd46e6-c170-4a62-bec9-151ef89a4e8a",
   "metadata": {},
   "outputs": [],
   "source": [
    "pearsonr(np.array(normalized_entropys), np.array(puritys))"
   ]
  },
  {
   "cell_type": "markdown",
   "id": "ce214b5c-1104-46ae-8555-39b8289ff2c7",
   "metadata": {},
   "source": [
    "### intra/inter"
   ]
  },
  {
   "cell_type": "code",
   "execution_count": null,
   "id": "6f17ed16-533e-4496-a6db-cc10ad05754e",
   "metadata": {},
   "outputs": [],
   "source": [
    "intras = [results[dataset][\"intra\"] for dataset in dataset_order]\n",
    "inters = [results[dataset][\"inter\"] for dataset in dataset_order]"
   ]
  },
  {
   "cell_type": "code",
   "execution_count": null,
   "id": "580c4205-4b1c-4cda-9ea1-d8891c35c865",
   "metadata": {},
   "outputs": [],
   "source": [
    "for inter_sublist in inters:\n",
    "    for inter_subsublist in inter_sublist:\n",
    "        if 0 in inter_subsublist:\n",
    "            inter_subsublist.remove(0) \n",
    "inter_means = [[np.mean(subsublist) for subsublist in sublist] for sublist in inters]"
   ]
  },
  {
   "cell_type": "code",
   "execution_count": null,
   "id": "17239296-efee-4f22-bbb5-96bee0c89bdf",
   "metadata": {},
   "outputs": [],
   "source": [
    "intra_inter_list = []\n",
    "for i in range(len(intras)):\n",
    "    intra_inter_list.append(np.mean(np.array(intras[i]) / np.array(inter_means[i])))"
   ]
  },
  {
   "cell_type": "code",
   "execution_count": null,
   "id": "25300388-6645-4a18-beda-9f1c21e85439",
   "metadata": {},
   "outputs": [],
   "source": [
    "pearsonr(np.array(intra_inter_list), np.array(aris))"
   ]
  },
  {
   "cell_type": "code",
   "execution_count": null,
   "id": "0dfc7138-d371-4299-82f9-d8b881c056aa",
   "metadata": {},
   "outputs": [],
   "source": [
    "pearsonr(np.array(intra_inter_list), np.array(nmis))"
   ]
  },
  {
   "cell_type": "code",
   "execution_count": null,
   "id": "74ae71f4-ea28-4f7b-928e-f27753621fa3",
   "metadata": {},
   "outputs": [],
   "source": [
    "pearsonr(np.array(intra_inter_list), np.array(puritys))"
   ]
  },
  {
   "cell_type": "markdown",
   "id": "fb3cef64-670e-4a75-af56-58a88e876cd0",
   "metadata": {},
   "source": [
    "### intra means"
   ]
  },
  {
   "cell_type": "code",
   "execution_count": null,
   "id": "1cbc429e-ad5b-4bd4-a803-435e0d83aebb",
   "metadata": {},
   "outputs": [],
   "source": [
    "intra_means = [np.mean(sublist) for sublist in intras]"
   ]
  },
  {
   "cell_type": "code",
   "execution_count": null,
   "id": "5ab9d755-7712-4b2b-abf3-7c50fbeeb5c4",
   "metadata": {},
   "outputs": [],
   "source": [
    "pearsonr(np.array(intra_means), np.array(aris))"
   ]
  },
  {
   "cell_type": "code",
   "execution_count": null,
   "id": "20ad49d1-2609-4335-8061-eceb34816446",
   "metadata": {},
   "outputs": [],
   "source": [
    "pearsonr(np.array(intra_means), np.array(nmis))"
   ]
  },
  {
   "cell_type": "code",
   "execution_count": null,
   "id": "14d9ff69-7f7f-44ce-8f9a-548425923090",
   "metadata": {},
   "outputs": [],
   "source": [
    "pearsonr(np.array(intra_means), np.array(puritys))"
   ]
  },
  {
   "cell_type": "markdown",
   "id": "5b660fb6-a260-49e2-bccc-d7520df5ee11",
   "metadata": {},
   "source": [
    "### Cluster variance across samples"
   ]
  },
  {
   "cell_type": "code",
   "execution_count": null,
   "id": "41835422-76a3-45a5-94f8-b0622f47332a",
   "metadata": {},
   "outputs": [],
   "source": [
    "cvas = [results[dataset][\"cluster_variance_across_samples\"] for dataset in dataset_order]\n",
    "cvas_means = [np.mean(sublist) for sublist in cvas]"
   ]
  },
  {
   "cell_type": "code",
   "execution_count": null,
   "id": "7fc76456-bf3f-45e2-aa4a-61d8d6f5dfb3",
   "metadata": {},
   "outputs": [],
   "source": [
    "pearsonr(np.array(cvas_means), np.array(aris))"
   ]
  },
  {
   "cell_type": "code",
   "execution_count": null,
   "id": "c385016a-5cf9-4309-9c63-313b908d3ff2",
   "metadata": {},
   "outputs": [],
   "source": [
    "pearsonr(np.array(cvas_means), np.array(nmis))"
   ]
  },
  {
   "cell_type": "code",
   "execution_count": null,
   "id": "fd5fe6e4-cac4-44b1-8efd-28a3289ef241",
   "metadata": {},
   "outputs": [],
   "source": [
    "pearsonr(np.array(cvas_means), np.array(puritys))"
   ]
  },
  {
   "cell_type": "markdown",
   "id": "022253b1-d7a0-469e-933a-9652f70b138c",
   "metadata": {},
   "source": [
    "### Intra class variance"
   ]
  },
  {
   "cell_type": "code",
   "execution_count": null,
   "id": "58f20397-43ad-4cfe-b6b9-16ff2edae243",
   "metadata": {},
   "outputs": [],
   "source": [
    "icv = [results[dataset][\"intra_class_variance\"] for dataset in dataset_order]\n",
    "icv_means = [np.mean(sublist) for sublist in icv]"
   ]
  },
  {
   "cell_type": "code",
   "execution_count": null,
   "id": "5657f3f0-8f99-4545-ac84-cec16af9a89e",
   "metadata": {},
   "outputs": [],
   "source": [
    "pearsonr(np.array(icv_means), np.array(aris))"
   ]
  },
  {
   "cell_type": "code",
   "execution_count": null,
   "id": "f41f8f76-7533-493b-9443-af40f0eb9c47",
   "metadata": {},
   "outputs": [],
   "source": [
    "pearsonr(np.array(icv_means), np.array(nmis))"
   ]
  },
  {
   "cell_type": "code",
   "execution_count": null,
   "id": "1e33a7ab-1411-480e-b306-800667759a11",
   "metadata": {},
   "outputs": [],
   "source": [
    "pearsonr(np.array(icv_means), np.array(puritys))"
   ]
  },
  {
   "cell_type": "markdown",
   "id": "bf161783-f44c-43fe-8f67-fd1926d4e097",
   "metadata": {},
   "source": [
    "## Correlations for the per-cluster metrics"
   ]
  },
  {
   "cell_type": "code",
   "execution_count": null,
   "id": "0adb6555-9a90-452c-a6bc-949afceeb16f",
   "metadata": {},
   "outputs": [],
   "source": [
    "from itertools import chain\n",
    "def flatten(listOfLists):\n",
    "    \"Flatten one level of nesting\"\n",
    "    return list(chain.from_iterable(listOfLists))"
   ]
  },
  {
   "cell_type": "code",
   "execution_count": null,
   "id": "4e91aa2d-bf0b-4c6c-9d0f-21a95126c780",
   "metadata": {},
   "outputs": [],
   "source": [
    "# calculate correlation between sscore per-cluster metrics and probability of matching correctly.\n",
    "\n",
    "cluster_matching_prob = list(flatten([\n",
    "    [0.4,0,0.4,0], [0,0.2,0.2,0.4], [0.8,0.6,0], [0,0,0], [0.2,0.2,0.6], [0.4,0.8,0,1], [0.8,0.4,0,0], [1,0.8,0], [0,0,1], [0,1,0], [0,0,0.2], [1,0,1]\n",
    "]))"
   ]
  },
  {
   "cell_type": "code",
   "execution_count": null,
   "id": "4b6ca1ef-4e3d-4832-8799-c6559ef7ac10",
   "metadata": {},
   "outputs": [],
   "source": [
    "# sil_score\n",
    "sil_scores_per_cluster = list(flatten([results[dataset][\"sil_score_per_cluster\"] for dataset in dataset_order]))\n",
    "pearsonr(np.array(cluster_matching_prob), np.array(sil_scores_per_cluster))"
   ]
  },
  {
   "cell_type": "code",
   "execution_count": null,
   "id": "854d66a5-4474-4588-9dc6-e793ddc10c54",
   "metadata": {},
   "outputs": [],
   "source": [
    "# intra\n",
    "intra_per_cluster = list(flatten([results[dataset][\"intra\"] for dataset in dataset_order]))\n",
    "pearsonr(np.array(cluster_matching_prob), np.array(intra_per_cluster))"
   ]
  },
  {
   "cell_type": "code",
   "execution_count": null,
   "id": "f2123c9b-5dcb-4bcf-9833-3193a5ea9f1f",
   "metadata": {},
   "outputs": [],
   "source": [
    "# cluster_variance_across_samples\n",
    "cvas_per_cluster = list(flatten([results[dataset][\"cluster_variance_across_samples\"] for dataset in dataset_order]))\n",
    "pearsonr(np.array(cluster_matching_prob), np.array(cvas_per_cluster))"
   ]
  },
  {
   "cell_type": "code",
   "execution_count": null,
   "id": "964c4dca-70a9-4b03-88c7-118761692035",
   "metadata": {},
   "outputs": [],
   "source": [
    "# intra_class_variance\n",
    "icv_per_cluster = list(flatten([results[dataset][\"intra_class_variance\"] for dataset in dataset_order]))\n",
    "pearsonr(np.array(cluster_matching_prob), np.array(icv_per_cluster))"
   ]
  },
  {
   "cell_type": "code",
   "execution_count": null,
   "id": "f4c31068-b2e6-48d0-bfd1-f5edc614c879",
   "metadata": {},
   "outputs": [],
   "source": [
    "# inter means\n",
    "inter_per_cluster = list(flatten([results[dataset][\"inter\"] for dataset in dataset_order]))\n",
    "for inter_sublist in inter_per_cluster:\n",
    "    if 0 in inter_sublist:\n",
    "        inter_sublist.remove(0)\n",
    "inter_means_per_cluster = [np.mean(inter_sublist) for inter_sublist in inter_per_cluster]\n",
    "pearsonr(np.array(cluster_matching_prob), np.array(inter_means_per_cluster))"
   ]
  },
  {
   "cell_type": "code",
   "execution_count": null,
   "id": "4d636f7e-4b00-415c-9107-84ea7f61fd22",
   "metadata": {},
   "outputs": [],
   "source": [
    "# intra inter frac\n",
    "pearsonr(np.array(cluster_matching_prob), np.array(intra_per_cluster)/np.array(inter_means_per_cluster))"
   ]
  },
  {
   "cell_type": "code",
   "execution_count": null,
   "id": "0ea10a88-b3b5-4b27-b7f0-e61aae6b8d15",
   "metadata": {},
   "outputs": [],
   "source": []
  }
 ],
 "metadata": {
  "kernelspec": {
   "display_name": "Python 3 (ipykernel)",
   "language": "python",
   "name": "python3"
  },
  "language_info": {
   "codemirror_mode": {
    "name": "ipython",
    "version": 3
   },
   "file_extension": ".py",
   "mimetype": "text/x-python",
   "name": "python",
   "nbconvert_exporter": "python",
   "pygments_lexer": "ipython3",
   "version": "3.9.0"
  }
 },
 "nbformat": 4,
 "nbformat_minor": 5
}
