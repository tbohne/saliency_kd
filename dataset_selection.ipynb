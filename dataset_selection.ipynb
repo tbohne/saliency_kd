{
 "cells": [
  {
   "cell_type": "code",
   "execution_count": 1,
   "id": "5bee0f49-735b-44cc-a612-e99a1a0e5b5d",
   "metadata": {},
   "outputs": [],
   "source": [
    "import pandas as pd"
   ]
  },
  {
   "cell_type": "markdown",
   "id": "2570d52e-d999-4d1c-966c-4debe234e0b2",
   "metadata": {},
   "source": [
    "## Include additional dataset information from https://www.cs.ucr.edu/~eamonn/time_series_data_2018/"
   ]
  },
  {
   "cell_type": "code",
   "execution_count": 9,
   "id": "0b7d7bd2-6832-4241-9fd9-9fe0a83e3455",
   "metadata": {},
   "outputs": [],
   "source": [
    "ucr_datasummary_path = \"DataSummary.csv\"\n",
    "ucr_datasummary = pd.read_csv(ucr_datasummary_path)\n",
    "ucr_datasummary[\"Length_num\"] = pd.to_numeric(ucr_datasummary.Length, errors = \"coerce\")"
   ]
  },
  {
   "cell_type": "markdown",
   "id": "68e605e1-a281-497e-af2e-fdc8bec9b4ed",
   "metadata": {},
   "source": [
    "### Filter UCR datasets according to the following criteria:"
   ]
  },
  {
   "cell_type": "code",
   "execution_count": 16,
   "id": "81a3a30b-4813-436c-be08-dcb1249428a0",
   "metadata": {},
   "outputs": [],
   "source": [
    "MIN_CLASSES = 6\n",
    "MAX_CLASSES = 16\n",
    "MIN_LENGTH = 90\n",
    "MAX_LENGTH = 3000\n",
    "MIN_TRAIN_OR_TEST_SIZE = 300\n",
    "\n",
    "# additionally, ignore datasets of type \"Image\""
   ]
  },
  {
   "cell_type": "code",
   "execution_count": 17,
   "id": "1e643eea-a9db-4c06-9afc-83ecb1fe43b5",
   "metadata": {},
   "outputs": [],
   "source": [
    "filtered_ucr = ucr_datasummary[\n",
    "    (ucr_datasummary['Class'] >= MIN_CLASSES) & (ucr_datasummary['Class'] <= MAX_CLASSES) &\n",
    "    (ucr_datasummary['Length_num'] >= MIN_LENGTH) & (ucr_datasummary['Length_num'] <= MAX_LENGTH) &\n",
    "    ((ucr_datasummary['Train '] >= MIN_TRAIN_OR_TEST_SIZE) | (ucr_datasummary['Test '] >= MIN_TRAIN_OR_TEST_SIZE)) &\n",
    "    (ucr_datasummary['Type'] != \"Image\")\n",
    "]"
   ]
  },
  {
   "cell_type": "markdown",
   "id": "1a023eea-ed93-4512-a1cd-b37a82de584e",
   "metadata": {},
   "source": [
    "## Filter by classifier accuracy (https://github.com/hfawaz/dl-4-tsc/blob/master/results/results-ucr-128.csv)"
   ]
  },
  {
   "cell_type": "code",
   "execution_count": 30,
   "id": "3780c802-e7d0-4826-bbe1-7db8087a044f",
   "metadata": {},
   "outputs": [],
   "source": [
    "MIN_ACCURACY = 0.62"
   ]
  },
  {
   "cell_type": "code",
   "execution_count": 31,
   "id": "4d77d3a9-91e5-4142-beb4-55b9ee4f45a5",
   "metadata": {},
   "outputs": [],
   "source": [
    "accuracies = pd.read_csv(\"results-ucr-128.csv\")\n",
    "assert set(accuracies.dataset_name) == set(ucr_datasummary.Name)\n",
    "accuracies_filtered = accuracies[\n",
    "    (accuracies['accuracy'] >= MIN_ACCURACY)\n",
    "]"
   ]
  },
  {
   "cell_type": "code",
   "execution_count": 32,
   "id": "ccb42924-c623-472d-98b8-dd6e220ce8a5",
   "metadata": {},
   "outputs": [
    {
     "name": "stdout",
     "output_type": "stream",
     "text": [
      "CricketX\n",
      "CricketY\n",
      "CricketZ\n",
      "ElectricDevices\n",
      "InsectWingbeatSound\n",
      "Mallat\n",
      "UWaveGestureLibraryAll\n",
      "UWaveGestureLibraryX\n",
      "UWaveGestureLibraryY\n",
      "UWaveGestureLibraryZ\n"
     ]
    }
   ],
   "source": [
    "for dataset in list(filtered_ucr.Name):\n",
    "    if dataset in list(accuracies_filtered.dataset_name):\n",
    "        print(dataset)"
   ]
  },
  {
   "cell_type": "code",
   "execution_count": null,
   "id": "a56419de-1c00-45f7-98f8-0c0d61ab1707",
   "metadata": {},
   "outputs": [],
   "source": []
  }
 ],
 "metadata": {
  "kernelspec": {
   "display_name": "Python 3 (ipykernel)",
   "language": "python",
   "name": "python3"
  },
  "language_info": {
   "codemirror_mode": {
    "name": "ipython",
    "version": 3
   },
   "file_extension": ".py",
   "mimetype": "text/x-python",
   "name": "python",
   "nbconvert_exporter": "python",
   "pygments_lexer": "ipython3",
   "version": "3.9.0"
  }
 },
 "nbformat": 4,
 "nbformat_minor": 5
}
