{
 "cells": [
  {
   "cell_type": "code",
   "execution_count": null,
   "id": "5bee0f49-735b-44cc-a612-e99a1a0e5b5d",
   "metadata": {},
   "outputs": [],
   "source": [
    "import pandas as pd"
   ]
  },
  {
   "cell_type": "markdown",
   "id": "2570d52e-d999-4d1c-966c-4debe234e0b2",
   "metadata": {},
   "source": [
    "## Include additional dataset information from https://www.cs.ucr.edu/~eamonn/time_series_data_2018/"
   ]
  },
  {
   "cell_type": "code",
   "execution_count": null,
   "id": "0b7d7bd2-6832-4241-9fd9-9fe0a83e3455",
   "metadata": {},
   "outputs": [],
   "source": [
    "ucr_data_summary_path = \"res/ucr_summary.csv\"\n",
    "ucr_data_summary = pd.read_csv(ucr_data_summary_path)\n",
    "ucr_data_summary[\"Length_num\"] = pd.to_numeric(ucr_data_summary.Length, errors = \"coerce\")"
   ]
  },
  {
   "cell_type": "markdown",
   "id": "68e605e1-a281-497e-af2e-fdc8bec9b4ed",
   "metadata": {},
   "source": [
    "### Filter UCR datasets according to the following criteria:"
   ]
  },
  {
   "cell_type": "code",
   "execution_count": null,
   "id": "81a3a30b-4813-436c-be08-dcb1249428a0",
   "metadata": {},
   "outputs": [],
   "source": [
    "MIN_CLASSES = 6\n",
    "MAX_CLASSES = 16\n",
    "MIN_LENGTH = 90\n",
    "MAX_LENGTH = 3000\n",
    "MIN_TRAIN_OR_TEST_SIZE = 300\n",
    "\n",
    "# additionally, ignore datasets of type \"Image\""
   ]
  },
  {
   "cell_type": "code",
   "execution_count": null,
   "id": "1e643eea-a9db-4c06-9afc-83ecb1fe43b5",
   "metadata": {},
   "outputs": [],
   "source": [
    "filtered_ucr = ucr_data_summary[\n",
    "    (ucr_data_summary['Class'] >= MIN_CLASSES) & (ucr_data_summary['Class'] <= MAX_CLASSES) &\n",
    "    (ucr_data_summary['Length_num'] >= MIN_LENGTH) & (ucr_data_summary['Length_num'] <= MAX_LENGTH) &\n",
    "    ((ucr_data_summary['Train '] >= MIN_TRAIN_OR_TEST_SIZE) | (ucr_data_summary['Test '] >= MIN_TRAIN_OR_TEST_SIZE)) &\n",
    "    (ucr_data_summary['Type'] != \"Image\")\n",
    "]"
   ]
  },
  {
   "cell_type": "markdown",
   "id": "1a023eea-ed93-4512-a1cd-b37a82de584e",
   "metadata": {},
   "source": [
    "## Filter by classifier accuracy (https://github.com/hfawaz/dl-4-tsc/blob/master/results/results-ucr-128.csv)"
   ]
  },
  {
   "cell_type": "code",
   "execution_count": null,
   "id": "3780c802-e7d0-4826-bbe1-7db8087a044f",
   "metadata": {},
   "outputs": [],
   "source": [
    "MIN_ACCURACY = 0.62"
   ]
  },
  {
   "cell_type": "code",
   "execution_count": null,
   "id": "4d77d3a9-91e5-4142-beb4-55b9ee4f45a5",
   "metadata": {},
   "outputs": [],
   "source": [
    "accuracies = pd.read_csv(\"res/classifier_performance_ucr.csv\")\n",
    "assert set(accuracies.dataset_name) == set(ucr_data_summary.Name)\n",
    "accuracies_filtered = accuracies[\n",
    "    (accuracies['accuracy'] >= MIN_ACCURACY)\n",
    "]"
   ]
  },
  {
   "cell_type": "code",
   "execution_count": null,
   "id": "ccb42924-c623-472d-98b8-dd6e220ce8a5",
   "metadata": {},
   "outputs": [],
   "source": [
    "for dataset in list(filtered_ucr.Name):\n",
    "    if dataset in list(accuracies_filtered.dataset_name):\n",
    "        print(dataset)"
   ]
  }
 ],
 "metadata": {
  "kernelspec": {
   "display_name": "Python 3 (ipykernel)",
   "language": "python",
   "name": "python3"
  },
  "language_info": {
   "codemirror_mode": {
    "name": "ipython",
    "version": 3
   },
   "file_extension": ".py",
   "mimetype": "text/x-python",
   "name": "python",
   "nbconvert_exporter": "python",
   "pygments_lexer": "ipython3",
   "version": "3.10.12"
  }
 },
 "nbformat": 4,
 "nbformat_minor": 5
}
